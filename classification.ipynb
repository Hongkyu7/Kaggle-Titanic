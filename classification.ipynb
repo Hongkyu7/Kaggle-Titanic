{
 "cells": [
  {
   "cell_type": "code",
   "execution_count": 73,
   "metadata": {
    "collapsed": true
   },
   "outputs": [],
   "source": [
    "import numpy as np\n",
    "import pandas as pd\n",
    "from sklearn import metrics\n",
    "from sklearn.model_selection import train_test_split, GridSearchCV\n",
    "from sklearn.ensemble import RandomForestClassifier\n",
    "from xgboost import XGBClassifier"
   ]
  },
  {
   "cell_type": "code",
   "execution_count": 34,
   "outputs": [
    {
     "data": {
      "text/plain": "Survived               0\nPclass                 0\nSibSp                  0\nParch                  0\nAge_int_scaled       202\nFare_scaled            0\nEmbarked_C             0\nEmbarked_Q             0\nEmbarked_S             0\nCabin_str_A            0\nCabin_str_B            0\nCabin_str_C            0\nCabin_str_D            0\nCabin_str_E            0\nCabin_str_F            0\nCabin_str_G            0\nCabin_str_T            0\nName_title_Master      0\nName_title_Miss        0\nName_title_Mr          0\nName_title_Mrs         0\nSex_female             0\nSex_male               0\ndtype: int64"
     },
     "execution_count": 34,
     "metadata": {},
     "output_type": "execute_result"
    }
   ],
   "source": [
    "df_data = pd.read_csv(\"train_hongkyu.csv\")\n",
    "\n",
    "df_data.isna().sum()"
   ],
   "metadata": {
    "collapsed": false,
    "pycharm": {
     "name": "#%%\n"
    }
   }
  },
  {
   "cell_type": "code",
   "execution_count": 35,
   "outputs": [],
   "source": [
    "df_data.loc[df_data[\"Age_int_scaled\"].isna(), \"Age_int_scaled\"] = df_data[\"Age_int_scaled\"].mean()\n"
   ],
   "metadata": {
    "collapsed": false,
    "pycharm": {
     "name": "#%%\n"
    }
   }
  },
  {
   "cell_type": "code",
   "execution_count": 36,
   "outputs": [],
   "source": [
    "list_feature = list(df_data.columns)\n",
    "list_feature.remove('Survived')\n",
    "X = df_data[list_feature].copy()\n",
    "y = df_data[\"Survived\"].copy()"
   ],
   "metadata": {
    "collapsed": false,
    "pycharm": {
     "name": "#%%\n"
    }
   }
  },
  {
   "cell_type": "code",
   "execution_count": 37,
   "outputs": [],
   "source": [
    "X_train, X_test, y_train, y_test = train_test_split(X, y, test_size=0.3)"
   ],
   "metadata": {
    "collapsed": false,
    "pycharm": {
     "name": "#%%\n"
    }
   }
  },
  {
   "cell_type": "code",
   "execution_count": 75,
   "outputs": [
    {
     "name": "stdout",
     "output_type": "stream",
     "text": [
      "{'criterion': 'entropy', 'max_depth': 5, 'max_features': 11, 'n_estimators': 50}\n",
      "0.8427225806451613\n"
     ]
    }
   ],
   "source": [
    "para_grid_rf = [\n",
    "    {'n_estimators': [10, 50, 100, 250, 500, 750, 1000],\n",
    "     'criterion': ['gini', 'entropy'],\n",
    "     'max_depth': [1, 2, 3, 4, 5, None],\n",
    "     'max_features': [1, 3, 5, 7, 9, 11, None]}\n",
    "]\n",
    "\n",
    "# clf_rf=RandomForestClassifier(n_estimators=100, max_depth=None)\n",
    "clf_rf=RandomForestClassifier()\n",
    "grid_search_rf = GridSearchCV(clf_rf, para_grid_rf)\n",
    "# clf_rf.fit(X_train,y_train)\n",
    "grid_search_rf.fit(X_train,y_train)\n",
    "print(grid_search_rf.best_params_)\n",
    "print(grid_search_rf.best_score_)\n",
    "\n",
    "# y_pred_rf=clf_rf.predict(X_test)\n",
    "\n",
    "# print(\"Random Forest Accuracy:\",metrics.accuracy_score(y_test, y_pred_rf))"
   ],
   "metadata": {
    "collapsed": false,
    "pycharm": {
     "name": "#%%\n"
    }
   }
  },
  {
   "cell_type": "code",
   "execution_count": 79,
   "outputs": [],
   "source": [
    "df_result = pd.DataFrame(grid_search_rf.cv_results_)\n",
    "df_result.sort_values(\"rank_test_score\", inplace=True)"
   ],
   "metadata": {
    "collapsed": false,
    "pycharm": {
     "name": "#%%\n"
    }
   }
  },
  {
   "cell_type": "code",
   "execution_count": 80,
   "outputs": [],
   "source": [
    "df_result.to_csv('result_rf.csv')"
   ],
   "metadata": {
    "collapsed": false,
    "pycharm": {
     "name": "#%%\n"
    }
   }
  },
  {
   "cell_type": "code",
   "execution_count": 81,
   "outputs": [
    {
     "name": "stdout",
     "output_type": "stream",
     "text": [
      "{'colsample_bytree': 0.3, 'learning_rate': 0.005, 'max_depth': 10, 'n_estimators': 1000}\n",
      "0.8443225806451613\n"
     ]
    }
   ],
   "source": [
    "para_grid_xgb = [\n",
    "    {'n_estimators': [10, 100, 500, 1000],\n",
    "     'learning_rate': [0.1, 0.005, 0.0001],\n",
    "     'max_depth': [1, 3, 5, 10],\n",
    "     'colsample_bytree': [0.1, 0.3, 0.7, 1]}\n",
    "]\n",
    "\n",
    "# clf_xgb = XGBClassifier(n_estimators=100, max_depth=4, learning_rate=0.0001)\n",
    "clf_xgb = XGBClassifier()\n",
    "grid_search_xgb = GridSearchCV(clf_xgb, para_grid_xgb)\n",
    "# clf_xgb.fit(X_train, y_train)\n",
    "grid_search_xgb.fit(X_train, y_train)\n",
    "\n",
    "# y_pred_xgb = clf_xgb.predict(X_test)\n",
    "print(grid_search_xgb.best_params_)\n",
    "print(grid_search_xgb.best_score_)\n",
    "\n",
    "\n",
    "# print(\"XGBoost Accuracy:\",metrics.accuracy_score(y_test, y_pred_xgb))\n"
   ],
   "metadata": {
    "collapsed": false,
    "pycharm": {
     "name": "#%%\n"
    }
   }
  },
  {
   "cell_type": "code",
   "execution_count": 82,
   "outputs": [],
   "source": [
    "df_result_xgb = pd.DataFrame(grid_search_xgb.cv_results_)\n",
    "df_result_xgb.sort_values(\"rank_test_score\", inplace=True)\n",
    "df_result_xgb.to_csv(\"result_xgb.csv\")\n",
    "\n"
   ],
   "metadata": {
    "collapsed": false,
    "pycharm": {
     "name": "#%%\n"
    }
   }
  },
  {
   "cell_type": "code",
   "execution_count": null,
   "outputs": [],
   "source": [
    "## Todo\n",
    "# 1. Age 결측치 처리를 평균 말고 다르게? (Ex. Na와 Not Na 구분)\n",
    "# 2. Age int만 남기는 과정 제거? (Master는 실제 어린 남자아이의 호칭)\n",
    "# 3. Grid search 범위 넓혀서 및 결과 plot"
   ],
   "metadata": {
    "collapsed": false,
    "pycharm": {
     "name": "#%%\n"
    }
   }
  }
 ],
 "metadata": {
  "kernelspec": {
   "name": "machine_learning",
   "language": "python",
   "display_name": "python3_ml"
  },
  "language_info": {
   "codemirror_mode": {
    "name": "ipython",
    "version": 2
   },
   "file_extension": ".py",
   "mimetype": "text/x-python",
   "name": "python",
   "nbconvert_exporter": "python",
   "pygments_lexer": "ipython2",
   "version": "2.7.6"
  }
 },
 "nbformat": 4,
 "nbformat_minor": 0
}