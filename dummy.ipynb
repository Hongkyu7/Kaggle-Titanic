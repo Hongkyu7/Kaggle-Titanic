{
 "cells": [
  {
   "cell_type": "code",
   "execution_count": null,
   "metadata": {
    "collapsed": true
   },
   "outputs": [],
   "source": [
    "df_merged = df_merged_raw.copy()\n",
    "df_merged = cabin_only_letter(df_merged, 'Cabin_str')\n",
    "df_merged = name_title(df_merged, 'Name_title')\n",
    "df_merged = age_to_int(df_merged, 'Age_int')\n",
    "df_merged = scaling(df_merged, ['Age_int', 'Fare'])\n",
    "df_merged = one_hot_encoding(df_merged, ['Embarked', 'Cabin_str', 'Name_title', 'Sex'], method='pandas', nan_drop_boolean=True)\n",
    "df_merged = df_merged.drop(['PassengerId', 'Ticket'], axis=1)\n"
   ]
  }
 ],
 "metadata": {
  "kernelspec": {
   "display_name": "Python 3",
   "language": "python",
   "name": "python3"
  },
  "language_info": {
   "codemirror_mode": {
    "name": "ipython",
    "version": 2
   },
   "file_extension": ".py",
   "mimetype": "text/x-python",
   "name": "python",
   "nbconvert_exporter": "python",
   "pygments_lexer": "ipython2",
   "version": "2.7.6"
  }
 },
 "nbformat": 4,
 "nbformat_minor": 0
}