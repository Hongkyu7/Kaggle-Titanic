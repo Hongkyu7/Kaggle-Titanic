{
 "cells": [
  {
   "cell_type": "code",
   "execution_count": 1,
   "metadata": {
    "collapsed": true
   },
   "outputs": [],
   "source": [
    "import numpy as np\n",
    "import pandas as pd\n",
    "from sklearn import preprocessing"
   ]
  },
  {
   "cell_type": "code",
   "execution_count": 2,
   "outputs": [],
   "source": [
    "df_train = pd.read_csv('train.csv', na_values=['', ' ', 'na', 'nan'])\n",
    "df_test = pd.read_csv('test.csv', na_values=['', ' ', 'na', 'nan'])"
   ],
   "metadata": {
    "collapsed": false,
    "pycharm": {
     "name": "#%%\n"
    }
   }
  },
  {
   "cell_type": "code",
   "execution_count": 4,
   "outputs": [
    {
     "data": {
      "text/plain": "PassengerId      0\nSurvived         0\nPclass           0\nName             0\nSex              0\nAge            177\nSibSp            0\nParch            0\nTicket           0\nFare             0\nCabin          687\nEmbarked         2\ndtype: int64"
     },
     "execution_count": 4,
     "metadata": {},
     "output_type": "execute_result"
    }
   ],
   "source": [
    "df_train.isna().sum()\n",
    "# 891개 Data\n",
    "# 결측치 Age: 177개, Cabin: 687개, Embarked: 2개\n"
   ],
   "metadata": {
    "collapsed": false,
    "pycharm": {
     "name": "#%%\n"
    }
   }
  },
  {
   "cell_type": "code",
   "execution_count": 5,
   "outputs": [
    {
     "data": {
      "text/plain": "PassengerId      0\nPclass           0\nName             0\nSex              0\nAge             86\nSibSp            0\nParch            0\nTicket           0\nFare             1\nCabin          327\nEmbarked         0\ndtype: int64"
     },
     "execution_count": 5,
     "metadata": {},
     "output_type": "execute_result"
    }
   ],
   "source": [
    "df_test.isna().sum()\n",
    "# 418개 Data\n",
    "# 결측치 Age: 86개, Fare: 1개 Cabin: 327개\n",
    "\n",
    "# len(df_test)\n",
    "# df_train.groupby('Sex').desribe()"
   ],
   "metadata": {
    "collapsed": false,
    "pycharm": {
     "name": "#%%\n"
    }
   }
  },
  {
   "cell_type": "code",
   "execution_count": 4,
   "outputs": [
    {
     "data": {
      "text/plain": "<matplotlib.axes._subplots.AxesSubplot at 0x19a82768ef0>"
     },
     "execution_count": 4,
     "metadata": {},
     "output_type": "execute_result"
    },
    {
     "data": {
      "text/plain": "<matplotlib.figure.Figure at 0x19a85c7cf28>",
      "image/png": "[encoded data removed]"
     },
     "metadata": {
      "needs_background": "light"
     },
     "output_type": "display_data"
    }
   ],
   "source": [
    "df_train['Age'].plot(kind='box')"
   ],
   "metadata": {
    "collapsed": false,
    "pycharm": {
     "name": "#%%\n"
    }
   }
  },
  {
   "cell_type": "code",
   "execution_count": 9,
   "outputs": [
    {
     "data": {
      "text/plain": "          PassengerId                                                      \\\n                count        mean         std  min     25%    50%     75%   \nAge_check                                                                   \nFalse           714.0  448.582633  259.119524  1.0  222.25  445.0  677.75   \nTrue            177.0  435.581921  250.552901  6.0  230.00  452.0  634.00   \n\n                 Survived            ... Parch        Fare             \\\n             max    count      mean  ...   75%  max  count       mean   \nAge_check                            ...                                \nFalse      891.0    714.0  0.406162  ...   1.0  6.0  714.0  34.694514   \nTrue       889.0    177.0  0.293785  ...   0.0  2.0  177.0  22.158567   \n\n                                                            \n                 std  min   25%      50%     75%       max  \nAge_check                                                   \nFalse      52.918930  0.0  8.05  15.7417  33.375  512.3292  \nTrue       31.874608  0.0  7.75   8.0500  24.150  227.5250  \n\n[2 rows x 56 columns]",
      "text/html": "<div>\n<style scoped>\n    .dataframe tbody tr th:only-of-type {\n        vertical-align: middle;\n    }\n\n    .dataframe tbody tr th {\n        vertical-align: top;\n    }\n\n    .dataframe thead tr th {\n        text-align: left;\n    }\n\n    .dataframe thead tr:last-of-type th {\n        text-align: right;\n    }\n</style>\n<table border=\"1\" class=\"dataframe\">\n  <thead>\n    <tr>\n      <th></th>\n      <th colspan=\"8\" halign=\"left\">PassengerId</th>\n      <th colspan=\"2\" halign=\"left\">Survived</th>\n      <th>...</th>\n      <th colspan=\"2\" halign=\"left\">Parch</th>\n      <th colspan=\"8\" halign=\"left\">Fare</th>\n    </tr>\n    <tr>\n      <th></th>\n      <th>count</th>\n      <th>mean</th>\n      <th>std</th>\n      <th>min</th>\n      <th>25%</th>\n      <th>50%</th>\n      <th>75%</th>\n      <th>max</th>\n      <th>count</th>\n      <th>mean</th>\n      <th>...</th>\n      <th>75%</th>\n      <th>max</th>\n      <th>count</th>\n      <th>mean</th>\n      <th>std</th>\n      <th>min</th>\n      <th>25%</th>\n      <th>50%</th>\n      <th>75%</th>\n      <th>max</th>\n    </tr>\n    <tr>\n      <th>Age_check</th>\n      <th></th>\n      <th></th>\n      <th></th>\n      <th></th>\n      <th></th>\n      <th></th>\n      <th></th>\n      <th></th>\n      <th></th>\n      <th></th>\n      <th></th>\n      <th></th>\n      <th></th>\n      <th></th>\n      <th></th>\n      <th></th>\n      <th></th>\n      <th></th>\n      <th></th>\n      <th></th>\n      <th></th>\n    </tr>\n  </thead>\n  <tbody>\n    <tr>\n      <th>False</th>\n      <td>714.0</td>\n      <td>448.582633</td>\n      <td>259.119524</td>\n      <td>1.0</td>\n      <td>222.25</td>\n      <td>445.0</td>\n      <td>677.75</td>\n      <td>891.0</td>\n      <td>714.0</td>\n      <td>0.406162</td>\n      <td>...</td>\n      <td>1.0</td>\n      <td>6.0</td>\n      <td>714.0</td>\n      <td>34.694514</td>\n      <td>52.918930</td>\n      <td>0.0</td>\n      <td>8.05</td>\n      <td>15.7417</td>\n      <td>33.375</td>\n      <td>512.3292</td>\n    </tr>\n    <tr>\n      <th>True</th>\n      <td>177.0</td>\n      <td>435.581921</td>\n      <td>250.552901</td>\n      <td>6.0</td>\n      <td>230.00</td>\n      <td>452.0</td>\n      <td>634.00</td>\n      <td>889.0</td>\n      <td>177.0</td>\n      <td>0.293785</td>\n      <td>...</td>\n      <td>0.0</td>\n      <td>2.0</td>\n      <td>177.0</td>\n      <td>22.158567</td>\n      <td>31.874608</td>\n      <td>0.0</td>\n      <td>7.75</td>\n      <td>8.0500</td>\n      <td>24.150</td>\n      <td>227.5250</td>\n    </tr>\n  </tbody>\n</table>\n<p>2 rows × 56 columns</p>\n</div>"
     },
     "execution_count": 9,
     "metadata": {},
     "output_type": "execute_result"
    }
   ],
   "source": [
    "df_train[\"Age_check\"] = df_train[\"Age\"].isna()\n",
    "df_train.groupby(\"Age_check\").describe()"
   ],
   "metadata": {
    "collapsed": false,
    "pycharm": {
     "name": "#%%\n"
    }
   }
  },
  {
   "cell_type": "code",
   "execution_count": 7,
   "outputs": [],
   "source": [
    "# list(df_train['Ticket'])\n",
    "list_type_train = list(map(lambda x: x[-1], list(df_train['Ticket'])))\n",
    "list_type_test = list(map(lambda x: x[-1], list(df_test['Ticket'])))"
   ],
   "metadata": {
    "collapsed": false,
    "pycharm": {
     "name": "#%%\n"
    }
   }
  },
  {
   "cell_type": "code",
   "execution_count": 8,
   "outputs": [
    {
     "name": "stdout",
     "output_type": "stream",
     "text": [
      "{'9', '4', '2', '7', '1', 'E', '0', '3', '8', '5', '6'}\n",
      "{'9', '2', '7', '1', '6', '0', '3', '8', '5', '4'}\n"
     ]
    }
   ],
   "source": [
    "print(set(list_type_train))\n",
    "print(set(list_type_test))"
   ],
   "metadata": {
    "collapsed": false,
    "pycharm": {
     "name": "#%%\n"
    }
   }
  },
  {
   "cell_type": "code",
   "execution_count": 7,
   "outputs": [
    {
     "data": {
      "text/plain": "dtype('O')"
     },
     "execution_count": 7,
     "metadata": {},
     "output_type": "execute_result"
    }
   ],
   "source": [
    "df_train.dtypes\n",
    "\n",
    "df_train[\"Embarked\"].dtypes"
   ],
   "metadata": {
    "collapsed": false,
    "pycharm": {
     "name": "#%%\n"
    }
   }
  },
  {
   "cell_type": "code",
   "execution_count": 20,
   "outputs": [
    {
     "name": "stdout",
     "output_type": "stream",
     "text": [
      "[[0. 0. 1. 0.]\n",
      " [1. 0. 0. 0.]\n",
      " [0. 0. 1. 0.]\n",
      " ...\n",
      " [0. 0. 1. 0.]\n",
      " [1. 0. 0. 0.]\n",
      " [0. 1. 0. 0.]]\n"
     ]
    }
   ],
   "source": [
    "oe = preprocessing.OneHotEncoder()\n",
    "le = preprocessing.LabelEncoder()\n",
    "df_train2 = df_train.copy()\n",
    "\n",
    "df_train['Embarked'] = df_train['Embarked'].astype(str)\n",
    "test = le.fit_transform(df_train['Embarked'])\n",
    "test2 = oe.fit_transform(df_train[['Embarked']])\n",
    "\n",
    "count_summary = {}\n",
    "for i in set(test):\n",
    "    count_summary[i] = list(test).count(i)\n",
    "\n",
    "print(test2.toarray())\n",
    "\n"
   ],
   "metadata": {
    "collapsed": false,
    "pycharm": {
     "name": "#%%\n"
    }
   }
  }
 ],
 "metadata": {
  "kernelspec": {
   "display_name": "Python 3",
   "language": "python",
   "name": "python3"
  },
  "language_info": {
   "codemirror_mode": {
    "name": "ipython",
    "version": 2
   },
   "file_extension": ".py",
   "mimetype": "text/x-python",
   "name": "python",
   "nbconvert_exporter": "python",
   "pygments_lexer": "ipython2",
   "version": "2.7.6"
  }
 },
 "nbformat": 4,
 "nbformat_minor": 0
}